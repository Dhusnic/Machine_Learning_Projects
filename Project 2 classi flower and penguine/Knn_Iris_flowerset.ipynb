{
 "cells": [
  {
   "cell_type": "code",
   "execution_count": null,
   "metadata": {},
   "outputs": [],
   "source": [
    "import pandas as pd\n",
    "\n",
    "# Specify the file path\n",
    "file_path = r'D:\\Machine Learning\\Project 2 classi flower and penguine\\iris\\iris.data'\n",
    "\n",
    "# Read the .data file into a DataFrame\n",
    "df = pd.read_csv(file_path, delimiter=',', header=None)\n",
    "\n",
    "# Assign column names based on the known structure of the Iris dataset\n",
    "df.columns = ['sepal_length', 'sepal_width', 'petal_length', 'petal_width', 'class']\n",
    "\n",
    "# Display the first few rows of the DataFrame to verify the data\n",
    "print(df.head())\n",
    "\n",
    "\n"
   ]
  }
 ],
 "metadata": {
  "language_info": {
   "name": "python"
  }
 },
 "nbformat": 4,
 "nbformat_minor": 2
}
