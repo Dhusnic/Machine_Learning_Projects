{
 "cells": [
  {
   "cell_type": "code",
   "execution_count": null,
   "metadata": {},
   "outputs": [],
   "source": [
    "import pandas as pd\n",
    "\n",
    "# Specify the file path\n",
    "file_path = r'D:\\Machine Learning\\Project 4 spam email\\spambase\\spambase.data'\n",
    "\n",
    "# Read the .data file into a DataFrame\n",
    "# Assuming the file is comma-separated and does not have a header row\n",
    "df = pd.read_csv(file_path, delimiter=',', header=None)\n",
    "\n",
    "# If the dataset does not include column headers, you need to specify them manually.\n",
    "# The Spambase dataset typically has 58 columns. Here are the column names:\n",
    "column_names = [\n",
    "    'word_freq_make', 'word_freq_address', 'word_freq_all', 'word_freq_3d', \n",
    "    'word_freq_our', 'word_freq_over', 'word_freq_remove', 'word_freq_internet', \n",
    "    'word_freq_order', 'word_freq_mail', 'word_freq_receive', 'word_freq_will', \n",
    "    'word_freq_people', 'word_freq_report', 'word_freq_addresses', 'word_freq_free', \n",
    "    'word_freq_business', 'word_freq_email', 'word_freq_you', 'word_freq_credit', \n",
    "    'word_freq_your', 'word_freq_font', 'word_freq_000', 'word_freq_money', \n",
    "    'word_freq_hp', 'word_freq_hpl', 'word_freq_george', 'word_freq_650', \n",
    "    'word_freq_lab', 'word_freq_labs', 'word_freq_telnet', 'word_freq_857', \n",
    "    'word_freq_data', 'word_freq_415', 'word_freq_85', 'word_freq_technology', \n",
    "    'word_freq_1999', 'word_freq_parts', 'word_freq_pm', 'word_freq_direct', \n",
    "    'word_freq_cs', 'word_freq_meeting', 'word_freq_original', 'word_freq_project', \n",
    "    'word_freq_re', 'word_freq_edu', 'word_freq_table', 'word_freq_conference', \n",
    "    'char_freq_;', 'char_freq_(', 'char_freq_[', 'char_freq_!', 'char_freq_$', \n",
    "    'char_freq_#', 'capital_run_length_average', 'capital_run_length_longest', \n",
    "    'capital_run_length_total', 'spam'\n",
    "]\n",
    "df.columns = column_names\n",
    "\n",
    "# Display the first few rows of the DataFrame to verify the data\n",
    "print(df.head())\n",
    "\n",
    "# Further preprocessing steps can be added here if necessary\n",
    "# For example: Checking for missing values, encoding categorical variables, feature scaling, etc.\n",
    "\n",
    "# Example: Checking for missing values\n",
    "print(df.isnull().sum())\n",
    "\n",
    "# Example: Basic statistics of the dataset\n",
    "print(df.describe())\n",
    "\n",
    "# Now the DataFrame `df` is ready for use in your machine learning model\n"
   ]
  }
 ],
 "metadata": {
  "language_info": {
   "name": "python"
  }
 },
 "nbformat": 4,
 "nbformat_minor": 2
}
